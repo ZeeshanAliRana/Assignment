{
 "cells": [
  {
   "cell_type": "code",
   "execution_count": 3,
   "metadata": {},
   "outputs": [
    {
     "name": "stdout",
     "output_type": "stream",
     "text": [
      "{'first name': 'Zeeshan', 'last name': 'Ali Rana', 'age': 20, 'city': 'Karachi'}\n",
      "{'first name': 'Zeeshan', 'last name': 'Ali Rana', 'age': 20, 'city': 'Karachi', 'qualification': 'To be updated'}\n",
      "{'first name': 'Zeeshan', 'last name': 'Ali Rana', 'age': 20, 'city': 'Karachi', 'qualification': 'Inter'}\n",
      "{'first name': 'Zeeshan', 'last name': 'Ali Rana', 'age': 20, 'city': 'Karachi'}\n"
     ]
    }
   ],
   "source": [
    "myinfo = { \n",
    "    \"first name\": \"Zeeshan\",\n",
    "    \"last name\" : \"Ali Rana\",\n",
    "    \"age\"           : 20,\n",
    "    \"city\"          : \"Karachi\"\n",
    "}\n",
    "\n",
    "print(myinfo)\n",
    "\n",
    "myinfo[\"qualification\"] = \"To be updated\"\n",
    "print(myinfo)\n",
    "\n",
    "myinfo[\"qualification\"]= \"Inter\"\n",
    "print(myinfo)\n",
    "\n",
    "del myinfo[\"qualification\"]\n",
    "print(myinfo)"
   ]
  },
  {
   "cell_type": "code",
   "execution_count": 4,
   "metadata": {},
   "outputs": [
    {
     "name": "stdout",
     "output_type": "stream",
     "text": [
      "{'country': 'Pakistan', 'population': 11000000, 'fact': 'There are so many education sectors !'}\n",
      "{'country': 'England', 'population': 8900000, 'fact': \"It's a beautiful place !\"}\n",
      "{'country': 'India', 'population': 18000000, 'fact': 'It is technology hub !'}\n"
     ]
    }
   ],
   "source": [
    "cities = {\n",
    "    \"Lahore\" : {\"country\"      : \"Pakistan\" ,\n",
    "                              \"population\" : 11000000,\n",
    "                              \"fact\"            : \"There are so many education sectors !\"},\n",
    "    \n",
    "    \"London\"           : {\"country\"      : \"England\" ,\n",
    "                              \"population\" : 8900000,\n",
    "                              \"fact\"            : \"It's a beautiful place !\"},\n",
    "    \n",
    "    \"Dehli\"    : {\"country\"      : \"India\" ,\n",
    "                              \"population\" : 18000000,\n",
    "                              \"fact\"            : \"It is technology hub !\"}\n",
    "}\n",
    "\n",
    "print(cities[\"Lahore\"])\n",
    "print(cities[\"London\"])\n",
    "print(cities[\"Dehli\"])"
   ]
  },
  {
   "cell_type": "code",
   "execution_count": 5,
   "metadata": {},
   "outputs": [
    {
     "name": "stdout",
     "output_type": "stream",
     "text": [
      "{'country': 'Pakistan', 'population': 11000000, 'fact': 'City of Gardens !'}\n",
      "{'country': 'England', 'population': 8900000, 'fact': \"It's a beautiful place !\"}\n",
      "{'country': 'India', 'population': 18000000, 'fact': 'It is a capital of india !'}\n"
     ]
    }
   ],
   "source": [
    "cities = {\n",
    "    \"Lahore\" : {\"country\"      : \"Pakistan\" ,\n",
    "                              \"population\" : 11000000,\n",
    "                              \"fact\"            : \"City of Gardens !\"},\n",
    "    \n",
    "    \"London\"           : {\"country\"      : \"England\" ,\n",
    "                              \"population\" : 8900000,\n",
    "                              \"fact\"            : \"It's a beautiful place !\"},\n",
    "    \n",
    "    \"Dehli\"    : {\"country\"      : \"India\" ,\n",
    "                              \"population\" : 18000000,\n",
    "                              \"fact\"            : \"It is a capital of india !\"}\n",
    "}\n",
    "\n",
    "print(cities[\"Lahore\"])\n",
    "print(cities[\"London\"])\n",
    "print(cities[\"Dehli\"])"
   ]
  },
  {
   "cell_type": "code",
   "execution_count": null,
   "metadata": {},
   "outputs": [
    {
     "name": "stdout",
     "output_type": "stream",
     "text": [
      "\n",
      "Enter your age or 'q' to stop asking :56\n",
      "Your ticket is $15 !\n",
      "\n",
      "Enter your age or 'q' to stop asking :66\n",
      "Your ticket is $15 !\n",
      "\n",
      "Enter your age or 'q' to stop asking :20\n",
      "Your ticket is $15 !\n",
      "\n",
      "Enter your age or 'q' to stop asking :5\n",
      "Your ticket is $10 !\n"
     ]
    }
   ],
   "source": [
    "flag = True\n",
    "while flag:\n",
    "    age = input(\"\\nEnter your age or 'q' to stop asking :\")\n",
    "    \n",
    "    if age.lower() == 'q':\n",
    "        flag = False\n",
    "    else:\n",
    "        int_age = int(age)\n",
    "        if int_age < 3:\n",
    "            print(\"Your ticket is free !\")\n",
    "        elif int_age >=3 and int_age <=12:\n",
    "            print(\"Your ticket is $10 !\")\n",
    "        elif int_age > 12:\n",
    "            print(\"Your ticket is $15 !\")"
   ]
  },
  {
   "cell_type": "code",
   "execution_count": null,
   "metadata": {},
   "outputs": [],
   "source": [
    "def favorite_book(title):\n",
    "    print(f\"One of my favorite books is '{title}'.\")\n",
    "    \n",
    "favorite_book(\"Alice in Wonderland\")\n",
    "favorite_book(\"You can win \")"
   ]
  },
  {
   "cell_type": "code",
   "execution_count": null,
   "metadata": {},
   "outputs": [],
   "source": [
    "def favorite_book(title):\n",
    "    print(f\"One of my favorite books is '{title}'.\")\n",
    "    \n",
    "favorite_book(\"Alice in Wonderland\")\n",
    "favorite_book(\"You can win \")"
   ]
  },
  {
   "cell_type": "code",
   "execution_count": null,
   "metadata": {},
   "outputs": [],
   "source": []
  }
 ],
 "metadata": {
  "kernelspec": {
   "display_name": "Python 3",
   "language": "python",
   "name": "python3"
  },
  "language_info": {
   "codemirror_mode": {
    "name": "ipython",
    "version": 3
   },
   "file_extension": ".py",
   "mimetype": "text/x-python",
   "name": "python",
   "nbconvert_exporter": "python",
   "pygments_lexer": "ipython3",
   "version": "3.7.4"
  }
 },
 "nbformat": 4,
 "nbformat_minor": 2
}
